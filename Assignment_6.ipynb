{
  "nbformat": 4,
  "nbformat_minor": 0,
  "metadata": {
    "colab": {
      "name": "Assignment_6.ipynb",
      "provenance": []
    },
    "kernelspec": {
      "name": "python3",
      "display_name": "Python 3"
    },
    "language_info": {
      "name": "python"
    }
  },
  "cells": [
    {
      "cell_type": "markdown",
      "source": [
        "Assignment_6:\n",
        "\n",
        "\n",
        "1.What are Escape characters ? and how do you use them ?\n",
        "\n",
        "Ans:  The backslash \"\\\" is a special character, also called the \"escape\" character. It is used in representing certain whitespace characters: \"\\t\" is a tab, \"\\n\" is a newline, and \"\\r\" is a carriage return. Conversely, prefixing a special character with \"\\\" turns it into an ordinary character.\n",
        "\n",
        "\n",
        "\n",
        "2.What do the escape characters n and t stand for ?\n",
        "\n",
        "Ans: \\n is a newline, \\t is a tab\n",
        "\n",
        "\n",
        "\n",
        "3.What is the way to include backslash character in a string?\n",
        "\n",
        "Ans: The \\\\ escape character will represent the backslash character in a string\n",
        "\n",
        "\n",
        "4.The string \"Howl's Moving Castle\" is a correct value. Why isn't the \n",
        "single quote character in the word Howl's not escaped a problem ?\n",
        "\n",
        "Ans: The string \"Howl's Moving Castle\" escaped the problem because it is inside double quotes. If this had been wrapped in single quotes then we had to use escape character \\' to show in single quote. \n",
        "\n",
        "\n",
        "\n",
        "5.How do you write a string of newlines if you don't want to use the n character?\n",
        "\n",
        "Ans: Multiline strings allow you to use newlines in strings without the \\n escape character.\n",
        "\n",
        "\n",
        "6.What are the values of the given expressions ?\n",
        "\n",
        "'Hello, world!'[1]\n",
        "'Hello, world!'[0:5]\n",
        "'Hello, world!'[:5]\n",
        "'Hello, world!'[3:]\n",
        "\n",
        "Ans: The values for the given expressions are:\n",
        "'Hello, world!'[1] -> 'e'\n",
        "'Hello, world!'[0:5] -> 'Hello'\n",
        "'Hello, world!'[:5] -> 'Hello'\n",
        "'Hello, world!'[3:] -> 'lo, world!'\n",
        "\n",
        "\n",
        "\n",
        "7.What are the values of the following expressions ?\n",
        "'Hello'.upper()\n",
        "'Hello'.upper().isupper()\n",
        "'Hello'.upper().lower()\n",
        "\n",
        "Ans: The values for the given expressions are:\n",
        "'Hello'.upper() -> 'HELLO'\n",
        "'Hello'.upper().isupper() -> True\n",
        "'Hello'.upper().lower() -> 'hello'\n",
        "\n",
        "\n",
        "\n",
        "8.What are the values of the following expressions ?\n",
        "'Remember, remember, the fifith of July.'.split()\n",
        "-'.join('There can only one'.split())\n",
        "\n",
        "Ans: The values for the given expressions are:\n",
        "'Remember, remember, the fifith of July.'.split() -> ['Remember,', 'remember,', 'the', 'fifith', 'of', 'July.']\n",
        "'-'.join('There can only one'.split()) -> 'There-can-only-one'\n",
        "\n",
        "\n",
        "\n",
        "\n",
        "9.What are the methods for right-justifying, left-justifying and centering a string ?\n",
        "\n",
        "Ans: The rjust(),ljust(),center() string methods, respectively\n",
        "\n",
        "\n",
        "\n",
        "10.What is the best way to remove whitespace characters from the start or end ?\n",
        "\n",
        "Ans: The lstrip() and rstrip() methods remove whitesapce characters from the left and right ends of a string respectively."
      ],
      "metadata": {
        "id": "tnbueSz-y_UL"
      }
    },
    {
      "cell_type": "code",
      "source": [
        ""
      ],
      "metadata": {
        "id": "GrRh5pca3_dI"
      },
      "execution_count": null,
      "outputs": []
    }
  ]
}